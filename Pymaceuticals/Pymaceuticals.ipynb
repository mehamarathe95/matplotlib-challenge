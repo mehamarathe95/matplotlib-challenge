{
 "cells": [
  {
   "cell_type": "code",
   "execution_count": null,
   "metadata": {},
   "outputs": [],
   "source": [
    "# Observations and Insights\n",
    "#### Add your analysis here\n",
    "\n",
    "#Overall, I can see that Capomulin seems to have the most points to analyze and study in this exercise.\n",
    "#Following Capomulin, the second best drug would be Ramicane as it has the second most data points. \n",
    "#Going further down and analyzing the charts, it is notably visible Ramicane had less outliers than Capomulin.\n",
    "#This can support the fact that Ramicane may be a better treatment drug over Capomulin."
   ]
  },
  {
   "cell_type": "code",
   "execution_count": null,
   "metadata": {},
   "outputs": [],
   "source": [
    "# Dependencies and Setup\n",
    "import matplotlib.pyplot as plt\n",
    "import pandas as pd\n",
    "import scipy.stats as st\n",
    "import numpy as np\n",
    "from scipy.stats import linregress\n",
    "\n",
    "# Study data files\n",
    "mouse_metadata_path = \"data/Mouse_metadata.csv\"\n",
    "study_results_path = \"data/Study_results.csv\"\n",
    "\n",
    "# Read the mouse data and the study results\n",
    "mouse_metadata = pd.read_csv(mouse_metadata_path)\n",
    "study_results = pd.read_csv(study_results_path)\n",
    "\n",
    "# Combine the data into a single dataset\n",
    "combined_data = pd.merge(study_results, mouse_metadata, how=\"left\", on=\"Mouse ID\")\n",
    "\n",
    "# Display the data table for preview\n",
    "combined_data.head()"
   ]
  },
  {
   "cell_type": "code",
   "execution_count": null,
   "metadata": {},
   "outputs": [],
   "source": [
    "# Check the number of mice.\n",
    "len(combined_data['Mouse ID'].unique())"
   ]
  },
  {
   "cell_type": "code",
   "execution_count": null,
   "metadata": {},
   "outputs": [],
   "source": [
    "# Getting the duplicate mice by ID number that shows up for Mouse ID and Timepoint.\n",
    "duplicate_IDs = combined_data.loc[combined_data.duplicated(subset=[\"Mouse ID\", \"Timepoint\"]), \"Mouse ID\"].unique()\n",
    "\n",
    "duplicate_IDs"
   ]
  },
  {
   "cell_type": "code",
   "execution_count": null,
   "metadata": {},
   "outputs": [],
   "source": [
    "# Optional: Get all the data for the duplicate mouse ID. \n",
    "combined_data.loc[combined_data[\"Mouse ID\"] == \"g989\"]\n"
   ]
  },
  {
   "cell_type": "code",
   "execution_count": null,
   "metadata": {},
   "outputs": [],
   "source": [
    "# Create a clean DataFrame by dropping the duplicate mouse by its ID.\n",
    "cleaned_data =  combined_data.loc[combined_data[\"Mouse ID\"].isin(duplicate_IDs) == False]\n",
    "\n",
    "cleaned_data"
   ]
  },
  {
   "cell_type": "code",
   "execution_count": null,
   "metadata": {},
   "outputs": [],
   "source": [
    "# Check the number of mice in the clean DataFrame.\n",
    "len(cleaned_data['Mouse ID'].unique())"
   ]
  },
  {
   "cell_type": "markdown",
   "metadata": {},
   "source": [
    "## Summary Statistics"
   ]
  },
  {
   "cell_type": "code",
   "execution_count": null,
   "metadata": {},
   "outputs": [],
   "source": [
    "# Generate a summary statistics table of mean, median, variance, standard deviation, and SEM of the tumor volume for each regimen\n",
    "\n",
    "summary_stats = cleaned_data.groupby([\"Drug Regimen\"])\n",
    "#summary_stats\n",
    "\n",
    "summary_mean = summary_stats[\"Tumor Volume (mm3)\"].mean()\n",
    "#summary_mean\n",
    "\n",
    "summary_median = summary_stats[\"Tumor Volume (mm3)\"].median()\n",
    "#summary_median\n",
    "\n",
    "summary_variance = summary_stats[\"Tumor Volume (mm3)\"].var()\n",
    "#summary_variance\n",
    "\n",
    "summary_std = summary_stats[\"Tumor Volume (mm3)\"].std()\n",
    "#summary_std\n",
    "\n",
    "summary_sem = summary_stats[\"Tumor Volume (mm3)\"].sem()\n",
    "#summary_sem\n",
    "\n",
    "summary_stats_df = pd.DataFrame({\"Mean Tumor Volume\": summary_mean,\n",
    "                                 \"Median Tumor Volume\": summary_median,\n",
    "                                \"Tumor Volume Variance\": summary_variance,\n",
    "                                \"Tumor Volume Std. Dev.\": summary_std,\n",
    "                                \"Tumor Volume Std. Err.\": summary_sem})\n",
    "\n",
    "summary_stats_df\n",
    "\n",
    "# Use this straighforward method, create multiple series and put them all in a dataframe at the end.\n"
   ]
  },
  {
   "cell_type": "code",
   "execution_count": null,
   "metadata": {},
   "outputs": [],
   "source": [
    "# Generate a summary statistics table of mean, median, variance, standard deviation, and SEM of the tumor volume for each regimen\n",
    "\n",
    "summary_stats_2 = cleaned_data.groupby([\"Drug Regimen\"]).agg({'Tumor Volume (mm3)': [\"mean\", \"median\", \"var\", \"std\", \"sem\"]})\n",
    "\n",
    "summary_stats_2\n",
    "\n",
    "# Use method to produce everything with a single groupby function\n"
   ]
  },
  {
   "cell_type": "markdown",
   "metadata": {},
   "source": [
    "\n",
    "## Bar and Pie Charts"
   ]
  },
  {
   "cell_type": "code",
   "execution_count": null,
   "metadata": {},
   "outputs": [],
   "source": [
    "# Generate a bar plot showing the total number of mice for each treatment throughout the course of the study using pandas. \n",
    "bar_plot = cleaned_data[\"Drug Regimen\"].value_counts()\n",
    "\n",
    "bar_plot.plot(kind=\"bar\")\n",
    "plt.ylabel(\"Number of Data Points\")\n",
    "plt.xlabel(\"Drug Regimen\")\n",
    "\n",
    "plt.show()\n"
   ]
  },
  {
   "cell_type": "code",
   "execution_count": null,
   "metadata": {},
   "outputs": [],
   "source": [
    "# Generate a bar plot showing the total number of mice for each treatment throughout the course of the study using pyplot.\n",
    "x_axis = bar_plot.index\n",
    "y_axis = bar_plot.values\n",
    "\n",
    "plt.bar(x_axis, y_axis)\n",
    "plt.ylabel(\"Number of Data Points\")\n",
    "plt.xlabel(\"Drug Regimen\")\n",
    "plt.xticks(rotation = 90) \n",
    "\n",
    "plt.show()"
   ]
  },
  {
   "cell_type": "code",
   "execution_count": null,
   "metadata": {},
   "outputs": [],
   "source": [
    "# Generate a pie plot showing the distribution of female versus male mice using pandas\n",
    "pie_plot = cleaned_data[\"Sex\"].value_counts()\n",
    "#pie_plot\n",
    "\n",
    "pie_plot.plot(kind=\"pie\",autopct=\"%1.1f%%\")\n",
    "\n",
    "plt.show()"
   ]
  },
  {
   "cell_type": "code",
   "execution_count": null,
   "metadata": {},
   "outputs": [],
   "source": [
    "# Generate a pie plot showing the distribution of female versus male mice using pyplot\n",
    "\n",
    "labels = pie_plot.index\n",
    "percentage = pie_plot.values\n",
    "\n",
    "plt.pie(percentage, labels=labels,autopct=\"%1.1f%%\")\n",
    "plt.ylabel(\"Sex\")\n",
    "\n",
    "plt.show()\n"
   ]
  },
  {
   "cell_type": "markdown",
   "metadata": {},
   "source": [
    "## Quartiles, Outliers and Boxplots"
   ]
  },
  {
   "cell_type": "code",
   "execution_count": null,
   "metadata": {
    "scrolled": true
   },
   "outputs": [],
   "source": [
    "# Calculate the final tumor volume of each mouse across each of the treatment regimens: \n",
    "# Start by getting the last (greatest) timepoint for each mouse\n",
    "\n",
    "final_timepoint = cleaned_data.groupby([\"Mouse ID\"])[\"Timepoint\"].max()\n",
    "final_timepoint = final_timepoint.reset_index()\n",
    "\n",
    "# Merge this group df with the original dataframe to get the tumor volume at the last timepoint\n",
    "\n",
    "final_tumor_volume = final_timepoint.merge(cleaned_data, on=[\"Mouse ID\", \"Timepoint\"], how=\"left\")\n",
    "\n",
    "final_tumor_volume"
   ]
  },
  {
   "cell_type": "code",
   "execution_count": null,
   "metadata": {},
   "outputs": [],
   "source": [
    "# Put 4 treatment names into a list for use with a for loop (and later for plot labels)\n",
    "treatment_list = [\"Capomulin\", \"Ramicane\", \"Infubinol\", \"Ceftamin\"]\n",
    "\n",
    "# Create a empty list to fill with tumor vol data (for plotting) (hint: each element of the list will be series)\n",
    "tumor_vol_list = []\n",
    "\n",
    "# For each treatment in the list, calculate the IQR and quantitatively \n",
    "# determine if there are any potential outliers.\n",
    "\n",
    "for drug in treatment_list:\n",
    "    \n",
    "    # Locate the rows which contain mice on each drug and get the tumor \n",
    "    tumor = final_tumor_volume.loc[final_tumor_volume['Drug Regimen'] == drug, 'Tumor Volume (mm3)']\n",
    "    \n",
    "    # add subset to tumor volume data list\n",
    "    tumor_vol_list.append(tumor)\n",
    "    \n",
    "    # Determine outliers using upper and lower bounds\n",
    "    quartiles = tumor_vol_list.quantile([.25,.5,.75])\n",
    "    lowerq = quartiles[0.25]\n",
    "    upperq = quartiles[0.75]\n",
    "    iqr = upperq - lowerq\n",
    "    lower_bound = lowerq - (1.5*iqr)\n",
    "    upper_bound = upperq + (1.5*iqr)\n",
    "    \n",
    "    outliers = tumor.loc[(tumor < lower_bound) | (tumor > upper_bound)]\n",
    "    \n",
    "    print(f\"{drug}'s potential outliers: {outliers}\")\n",
    "    \n",
    "#For some reason I am getting an AttributeError in this input of 'list' object has no attribute 'quantile' and I do not know why.\n",
    "#I have searched for any and all solutions and nothing seems to fix it."
   ]
  },
  {
   "cell_type": "code",
   "execution_count": null,
   "metadata": {},
   "outputs": [],
   "source": [
    "# Generate a box plot of the final tumor volume of each mouse across four regimens of interest\n",
    "fig1, ax1 = plt.subplots()\n",
    "flierprops = dict(marker='o', markerfacecolor='red', markersize=12,\n",
    "                  linestyle='none')\n",
    "ax1.set_ylabel('Final Tumor Volume (mm3)')\n",
    "ax1.set_xlabel('Drug Regimen')\n",
    "ax1.boxplot(tumor_vol_list, flierprops = flierprops)\n",
    "x_axis = np.arange(len(treatment_list))\n",
    "tick = [value + 1 for value in x_axis]\n",
    "plt.xticks(tick, treatment_list)\n",
    "\n",
    "plt.show()\n",
    "\n",
    "#Due to the problem in the cell above, my boxplot is only visible for Capomulin. I have tried over and over to fix this but have lost the battle."
   ]
  },
  {
   "cell_type": "markdown",
   "metadata": {},
   "source": [
    "## Line and Scatter Plots"
   ]
  },
  {
   "cell_type": "code",
   "execution_count": null,
   "metadata": {},
   "outputs": [],
   "source": [
    "# Generate a line plot of time point versus tumor volume for a mouse treated with Capomulin\n",
    "\n",
    "cap_data = cleaned_data[cleaned_data['Drug Regimen']=='Capomulin']\n",
    "mouse_l509 = cap_data[cap_data['Mouse ID']=='l509']\n",
    "mouse_l509_tumor = mouse_l509['Tumor Volume (mm3)']\n",
    "\n",
    "plt.plot(mouse_l509.Timepoint, mouse_l509_tumor)\n",
    "\n",
    "plt.xlabel('Timepoint (days)')\n",
    "plt.ylabel('Tumor Volume (mm3)')\n",
    "\n",
    "plt.show()"
   ]
  },
  {
   "cell_type": "code",
   "execution_count": null,
   "metadata": {},
   "outputs": [],
   "source": [
    "# Generate a scatter plot of mouse weight versus average tumor volume for the Capomulin regimen\n",
    "\n",
    "cap_mean = cap_data.groupby('Mouse ID').mean()['Tumor Volume (mm3)']\n",
    "cap_weight = cap_data.groupby('Mouse ID').mean()['Weight (g)']\n",
    "plt.scatter(cap_weight, cap_mean)\n",
    "\n",
    "plt.xlabel('Weight (g)')\n",
    "plt.ylabel('Average Tumor Volume (mm3)')\n",
    "\n",
    "plt.show()"
   ]
  },
  {
   "cell_type": "markdown",
   "metadata": {},
   "source": [
    "## Correlation and Regression"
   ]
  },
  {
   "cell_type": "code",
   "execution_count": null,
   "metadata": {},
   "outputs": [],
   "source": [
    "(slope, intercept, rvalue, pvalue, stderr) = linregress(cap_weight, cap_mean)\n",
    "regression = cap_weight * slope + intercept\n",
    "\n",
    "line_eq = \"y = \" + str(round(slope,2)) + \"x + \" + str(round(intercept,2))\n",
    "\n",
    "plt.scatter(cap_weight,cap_mean)\n",
    "plt.plot(cap_weight,regression,\"r-\")\n",
    "plt.ylabel('Average Tumor Volume (mm3)')\n",
    "plt.xlabel('Weight (g)')\n",
    "\n",
    "print(f\"The correlation between mouse weight and the average tumor volume is {round(rvalue,2)}\")\n",
    "plt.show()"
   ]
  },
  {
   "cell_type": "code",
   "execution_count": null,
   "metadata": {},
   "outputs": [],
   "source": []
  }
 ],
 "metadata": {
  "anaconda-cloud": {},
  "kernelspec": {
   "display_name": "Python 3",
   "language": "python",
   "name": "python3"
  },
  "language_info": {
   "codemirror_mode": {
    "name": "ipython",
    "version": 3
   },
   "file_extension": ".py",
   "mimetype": "text/x-python",
   "name": "python",
   "nbconvert_exporter": "python",
   "pygments_lexer": "ipython3",
   "version": "3.7.6"
  }
 },
 "nbformat": 4,
 "nbformat_minor": 2
}
